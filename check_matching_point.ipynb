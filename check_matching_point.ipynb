{
 "cells": [
  {
   "cell_type": "code",
   "execution_count": 152,
   "metadata": {},
   "outputs": [],
   "source": [
    "import numpy as np\n",
    "path='dump_match_pairs_kitti_2048/0000000062_0000000063_matches.npz'\n",
    "npz=np.load(path)"
   ]
  },
  {
   "cell_type": "code",
   "execution_count": 153,
   "metadata": {},
   "outputs": [
    {
     "data": {
      "text/plain": [
       "['keypoints0', 'keypoints1', 'matches', 'match_confidence']"
      ]
     },
     "execution_count": 153,
     "metadata": {},
     "output_type": "execute_result"
    }
   ],
   "source": [
    "npz.files"
   ]
  },
  {
   "cell_type": "code",
   "execution_count": 154,
   "metadata": {},
   "outputs": [
    {
     "data": {
      "text/plain": [
       "array([[ 464.,    8.],\n",
       "       [ 780.,    8.],\n",
       "       [ 878.,    8.],\n",
       "       [1093.,    8.],\n",
       "       [1310.,    8.],\n",
       "       [1328.,    8.],\n",
       "       [ 834.,    9.],\n",
       "       [1340.,    9.],\n",
       "       [1493.,    9.],\n",
       "       [ 694.,   10.]], dtype=float32)"
      ]
     },
     "execution_count": 154,
     "metadata": {},
     "output_type": "execute_result"
    }
   ],
   "source": [
    "npz['keypoints0'][:10]"
   ]
  },
  {
   "cell_type": "code",
   "execution_count": 155,
   "metadata": {},
   "outputs": [],
   "source": [
    "k1=npz['keypoints0']\n",
    "k2=npz['keypoints1']\n",
    "matches=npz['matches'].reshape(-1,1)"
   ]
  },
  {
   "cell_type": "code",
   "execution_count": 156,
   "metadata": {},
   "outputs": [
    {
     "data": {
      "text/plain": [
       "array([0.0000000e+00, 0.0000000e+00, 0.0000000e+00, 0.0000000e+00,\n",
       "       0.0000000e+00, 0.0000000e+00, 0.0000000e+00, 0.0000000e+00,\n",
       "       0.0000000e+00, 0.0000000e+00, 9.5888823e-01, 7.2403812e-01,\n",
       "       9.5913792e-01, 0.0000000e+00, 8.1372678e-02, 5.5132178e-04,\n",
       "       8.6664611e-01, 9.5898247e-01, 9.5918000e-01, 9.5992130e-01],\n",
       "      dtype=float32)"
      ]
     },
     "execution_count": 156,
     "metadata": {},
     "output_type": "execute_result"
    }
   ],
   "source": [
    "npz[\"match_confidence\"][:20]"
   ]
  },
  {
   "cell_type": "code",
   "execution_count": 157,
   "metadata": {},
   "outputs": [
    {
     "data": {
      "text/plain": [
       "array([[1030.,   10.,    4.],\n",
       "       [1165.,   10.,    9.],\n",
       "       [ 607.,   11.,    3.],\n",
       "       [  14.,   13.,   11.],\n",
       "       [ 806.,   13.,    8.]])"
      ]
     },
     "execution_count": 157,
     "metadata": {},
     "output_type": "execute_result"
    }
   ],
   "source": [
    "k1_matches=np.concatenate((k1, matches), axis=1)\n",
    "k1_matches=k1_matches[k1_matches[:, 2]!=-1]\n",
    "k1_matches[:5]"
   ]
  },
  {
   "cell_type": "code",
   "execution_count": 158,
   "metadata": {},
   "outputs": [],
   "source": [
    "k2_matches=k2[k1_matches[:,2].astype(np.int64)]"
   ]
  },
  {
   "cell_type": "code",
   "execution_count": 159,
   "metadata": {},
   "outputs": [],
   "source": [
    "k1_matches=k1_matches[:,[0,1]]\n",
    "matching_points=np.concatenate((k1_matches, k2_matches), axis=1)"
   ]
  },
  {
   "cell_type": "code",
   "execution_count": 160,
   "metadata": {},
   "outputs": [
    {
     "name": "stdout",
     "output_type": "stream",
     "text": [
      "1034\n",
      "Matching points: [[1030.   10. 1035.    8.]\n",
      " [1165.   10. 1171.    9.]\n",
      " [ 607.   11.  606.    8.]\n",
      " [  14.   13.    8.   10.]\n",
      " [ 806.   13.  809.    9.]\n",
      " [ 596.   14.  595.    9.]\n",
      " [ 982.   14.  989.   10.]\n",
      " [1113.   14. 1120.   12.]\n",
      " [ 706.   15.  708.   11.]\n",
      " [ 737.   15.  739.   12.]]\n"
     ]
    }
   ],
   "source": [
    "print(len(matching_points))\n",
    "print(\"Matching points: {}\".format(matching_points[:10]))"
   ]
  },
  {
   "cell_type": "code",
   "execution_count": 161,
   "metadata": {},
   "outputs": [
    {
     "data": {
      "text/plain": [
       "42"
      ]
     },
     "execution_count": 161,
     "metadata": {},
     "output_type": "execute_result"
    }
   ],
   "source": [
    "threshold=38.92\n",
    "x_diff=np.square(matching_points[:, 0]-matching_points[:, 2])\n",
    "y_diff=np.square(matching_points[:, 1]-matching_points[:, 3])\n",
    "np.sum(np.sqrt(x_diff+y_diff)>threshold)"
   ]
  },
  {
   "cell_type": "code",
   "execution_count": 162,
   "metadata": {},
   "outputs": [],
   "source": [
    "import cv2\n",
    "k1_matches= np.int64(k1_matches)\n",
    "k2_matches= np.int64(k2_matches)\n",
    "K=np.array([[0.58, 0, 0.5],\n",
    "            [0, 1.92, 0.5,],\n",
    "            [0, 0, 1]], dtype=np.float32)"
   ]
  },
  {
   "cell_type": "code",
   "execution_count": 163,
   "metadata": {},
   "outputs": [],
   "source": [
    "E=cv2.findEssentialMat(k1_matches, k2_matches, cameraMatrix=K)"
   ]
  },
  {
   "cell_type": "code",
   "execution_count": 164,
   "metadata": {},
   "outputs": [
    {
     "data": {
      "text/plain": [
       "array([[ 2.92022981e-09, -7.40913124e-04,  8.61759488e-02],\n",
       "       [ 7.41254697e-04, -7.31173331e-06, -7.01835563e-01],\n",
       "       [-8.61150070e-02,  7.01843042e-01, -7.18013034e-06]])"
      ]
     },
     "execution_count": 164,
     "metadata": {},
     "output_type": "execute_result"
    }
   ],
   "source": [
    "E[0]"
   ]
  },
  {
   "cell_type": "code",
   "execution_count": 168,
   "metadata": {},
   "outputs": [],
   "source": [
    "R=cv2.recoverPose(E[0], k1_matches, k2_matches)"
   ]
  },
  {
   "cell_type": "code",
   "execution_count": 173,
   "metadata": {},
   "outputs": [
    {
     "name": "stdout",
     "output_type": "stream",
     "text": [
      "[[ 9.99999996e-01 -8.68207025e-05 -7.80342550e-07]\n",
      " [ 8.68206944e-05  9.99999996e-01 -1.03263178e-05]\n",
      " [ 7.81239085e-07  1.03262500e-05  1.00000000e+00]]\n",
      "[[-0.99254537]\n",
      " [-0.12187118]\n",
      " [-0.00104907]]\n"
     ]
    }
   ],
   "source": [
    "print(R[1])\n",
    "print(R[2])"
   ]
  },
  {
   "cell_type": "code",
   "execution_count": null,
   "metadata": {},
   "outputs": [],
   "source": []
  }
 ],
 "metadata": {
  "kernelspec": {
   "display_name": "Python 3.10.4 ('torchstudy')",
   "language": "python",
   "name": "python3"
  },
  "language_info": {
   "codemirror_mode": {
    "name": "ipython",
    "version": 3
   },
   "file_extension": ".py",
   "mimetype": "text/x-python",
   "name": "python",
   "nbconvert_exporter": "python",
   "pygments_lexer": "ipython3",
   "version": "3.10.4"
  },
  "orig_nbformat": 4,
  "vscode": {
   "interpreter": {
    "hash": "d2a29e84b0c43c20c166437993d835aa1a00044783bb297f1abc4254f32cfca7"
   }
  }
 },
 "nbformat": 4,
 "nbformat_minor": 2
}
